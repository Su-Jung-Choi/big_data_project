{
 "cells": [
  {
   "cell_type": "markdown",
   "metadata": {
    "application/vnd.databricks.v1+cell": {
     "cellMetadata": {
      "byteLimit": 2048000,
      "rowLimit": 10000
     },
     "inputWidgets": {},
     "nuid": "629ef9e0-f5d1-4ddd-8e85-7fc4798f819d",
     "showTitle": false,
     "title": ""
    }
   },
   "source": [
    "# Data Analytics Project- Traffic Accident Duration Prediction Models"
   ]
  },
  {
   "cell_type": "code",
   "execution_count": null,
   "metadata": {
    "application/vnd.databricks.v1+cell": {
     "cellMetadata": {
      "byteLimit": 2048000,
      "rowLimit": 10000
     },
     "inputWidgets": {},
     "nuid": "fa93e460-0daa-4527-84a1-5f3d95b7fd72",
     "showTitle": false,
     "title": ""
    }
   },
   "outputs": [],
   "source": [
    "from pyspark.sql import SparkSession\n",
    "\n",
    "# Initialize a SparkSession\n",
    "spark = SparkSession.builder.enableHiveSupport().getOrCreate()\n",
    "\n",
    "# Read the Hive tables stored in Databricks into DataFrames\n",
    "# because of the file size, the data was splitted into different files\n",
    "table_name0 = \"hive_metastore.default.chunk_0\"\n",
    "df_0 = spark.sql(f\"SELECT * FROM {table_name0}\")\n",
    "\n",
    "table_name1 = \"hive_metastore.default.chunk_1\"\n",
    "df_1 = spark.sql(f\"SELECT * FROM {table_name1}\")\n",
    "\n",
    "table_name2 = \"hive_metastore.default.chunk_2\"\n",
    "df_2 = spark.sql(f\"SELECT * FROM {table_name2}\")\n",
    "\n",
    "table_name3 = \"hive_metastore.default.chunk_3\"\n",
    "df_3 = spark.sql(f\"SELECT * FROM {table_name3}\")\n",
    "\n",
    "table_name4 = \"hive_metastore.default.chunk_4\"\n",
    "df_4 = spark.sql(f\"SELECT * FROM {table_name4}\")\n",
    "\n",
    "table_name5 = \"hive_metastore.default.chunk_5\"\n",
    "df_5 = spark.sql(f\"SELECT * FROM {table_name5}\")\n",
    "\n",
    "table_name6 = \"hive_metastore.default.chunk_6\"\n",
    "df_6 = spark.sql(f\"SELECT * FROM {table_name6}\")\n",
    "\n",
    "table_name7 = \"hive_metastore.default.chunk_7\"\n",
    "df_7 = spark.sql(f\"SELECT * FROM {table_name7}\")\n",
    "\n",
    "# Append the DataFrames together\n",
    "df = df_0.union(df_1).union(df_2).union(df_3).union(df_4).union(df_5).union(df_6).union(df_7)"
   ]
  },
  {
   "cell_type": "code",
   "execution_count": null,
   "metadata": {
    "application/vnd.databricks.v1+cell": {
     "cellMetadata": {
      "byteLimit": 2048000,
      "rowLimit": 10000
     },
     "inputWidgets": {},
     "nuid": "91aa7ee2-63f5-47cd-b314-ec365e514845",
     "showTitle": false,
     "title": ""
    }
   },
   "outputs": [],
   "source": [
    "from pyspark.sql.functions import *\n",
    "from pyspark.ml import Pipeline\n",
    "from pyspark.ml.feature import StringIndexer\n",
    "from pyspark.ml.feature import OneHotEncoder"
   ]
  },
  {
   "cell_type": "code",
   "execution_count": null,
   "metadata": {
    "application/vnd.databricks.v1+cell": {
     "cellMetadata": {
      "byteLimit": 2048000,
      "rowLimit": 10000
     },
     "inputWidgets": {},
     "nuid": "490c3d87-a03b-4758-8ea9-3ae93248f3be",
     "showTitle": false,
     "title": ""
    }
   },
   "outputs": [],
   "source": [
    "seed=12"
   ]
  },
  {
   "cell_type": "code",
   "execution_count": null,
   "metadata": {
    "application/vnd.databricks.v1+cell": {
     "cellMetadata": {
      "byteLimit": 2048000,
      "rowLimit": 10000
     },
     "inputWidgets": {},
     "nuid": "bb4f7069-5aec-4db9-96e6-14bf6cc8ee71",
     "showTitle": false,
     "title": ""
    }
   },
   "outputs": [
    {
     "data": {
      "text/html": [
       "<style scoped>\n",
       "  .ansiout {\n",
       "    display: block;\n",
       "    unicode-bidi: embed;\n",
       "    white-space: pre-wrap;\n",
       "    word-wrap: break-word;\n",
       "    word-break: break-all;\n",
       "    font-family: \"Menlo\", \"Monaco\", \"Consolas\", \"Ubuntu Mono\", \"Source Code Pro\", monospace;\n",
       "    font-size: 13px;\n",
       "    color: #555;\n",
       "    margin-left: 4px;\n",
       "    line-height: 19px;\n",
       "  }\n",
       "</style>"
      ]
     },
     "metadata": {
      "application/vnd.databricks.v1+output": {
       "arguments": {},
       "data": "",
       "errorSummary": "Command skipped",
       "errorTraceType": "html",
       "metadata": {},
       "type": "ipynbError"
      }
     },
     "output_type": "display_data"
    }
   ],
   "source": [
    "#to check how many rows and columns the dataset contains\n",
    "num_rows = df.count()\n",
    "print(f\"The data frame contains {num_rows} number of rows.\")\n",
    "num_cols = len(df.columns)\n",
    "print(f\"The data frame contains {num_cols} number of columns.\")\n"
   ]
  },
  {
   "cell_type": "markdown",
   "metadata": {
    "application/vnd.databricks.v1+cell": {
     "cellMetadata": {
      "byteLimit": 2048000,
      "rowLimit": 10000
     },
     "inputWidgets": {},
     "nuid": "875d10c0-5d80-4966-a629-43ca1e11aa21",
     "showTitle": false,
     "title": ""
    }
   },
   "source": [
    "# Preprocessing"
   ]
  },
  {
   "cell_type": "code",
   "execution_count": null,
   "metadata": {
    "application/vnd.databricks.v1+cell": {
     "cellMetadata": {
      "byteLimit": 2048000,
      "rowLimit": 10000
     },
     "inputWidgets": {},
     "nuid": "9207b654-de51-4f04-bc81-478d0b0895e8",
     "showTitle": false,
     "title": ""
    }
   },
   "outputs": [],
   "source": [
    "# Initially I chose 19 features to analyze and excluded the features that have too many null values\n",
    "# (e.g. 'End_Lat' and 'End_Lng' have almost 50% of the values with null values)\n",
    "selected_df = df.select(\n",
    " 'Severity',\n",
    " 'Start_Time',\n",
    " 'End_Time',\n",
    " 'Start_Lat',\n",
    " 'Start_Lng',\n",
    " 'Distance(mi)',\n",
    " 'Street',\n",
    " 'City',\n",
    " 'County',\n",
    " 'State',\n",
    " 'Weather_Timestamp',\n",
    " 'Temperature(F)',\n",
    " 'Wind_Chill(F)',\n",
    " 'Humidity(%)',\n",
    " 'Pressure(in)',\n",
    " 'Visibility(mi)',\n",
    " 'Wind_Speed(mph)',\n",
    " 'Precipitation(in)',\n",
    " 'Sunrise_Sunset')\n"
   ]
  },
  {
   "cell_type": "markdown",
   "metadata": {
    "application/vnd.databricks.v1+cell": {
     "cellMetadata": {
      "byteLimit": 2048000,
      "rowLimit": 10000
     },
     "inputWidgets": {},
     "nuid": "26eb503c-b458-4c78-83da-9d0d12975379",
     "showTitle": false,
     "title": ""
    }
   },
   "source": [
    "#1. Feature Creation"
   ]
  },
  {
   "cell_type": "code",
   "execution_count": null,
   "metadata": {
    "application/vnd.databricks.v1+cell": {
     "cellMetadata": {
      "byteLimit": 2048000,
      "rowLimit": 10000
     },
     "inputWidgets": {},
     "nuid": "8fdaa87b-2188-4a33-855a-18f2f5ec2590",
     "showTitle": false,
     "title": ""
    }
   },
   "outputs": [
    {
     "name": "stdout",
     "output_type": "stream",
     "text": [
      "+-------------------+-------------------+--------+\n",
      "|         Start_Time|           End_Time|Duration|\n",
      "+-------------------+-------------------+--------+\n",
      "|2016-02-08 05:46:00|2016-02-08 11:00:00|   314.0|\n",
      "|2016-02-08 06:07:59|2016-02-08 06:37:59|    30.0|\n",
      "|2016-02-08 06:49:27|2016-02-08 07:19:27|    30.0|\n",
      "|2016-02-08 07:23:34|2016-02-08 07:53:34|    30.0|\n",
      "|2016-02-08 07:39:07|2016-02-08 08:09:07|    30.0|\n",
      "|2016-02-08 07:44:26|2016-02-08 08:14:26|    30.0|\n",
      "|2016-02-08 07:59:35|2016-02-08 08:29:35|    30.0|\n",
      "|2016-02-08 07:59:58|2016-02-08 08:29:58|    30.0|\n",
      "|2016-02-08 08:00:40|2016-02-08 08:30:40|    30.0|\n",
      "|2016-02-08 08:10:04|2016-02-08 08:40:04|    30.0|\n",
      "|2016-02-08 08:14:42|2016-02-08 08:44:42|    30.0|\n",
      "|2016-02-08 08:21:27|2016-02-08 08:51:27|    30.0|\n",
      "|2016-02-08 08:36:34|2016-02-08 09:06:34|    30.0|\n",
      "|2016-02-08 08:37:07|2016-02-08 09:07:07|    30.0|\n",
      "|2016-02-08 08:39:43|2016-02-08 09:09:43|    30.0|\n",
      "|2016-02-08 08:43:20|2016-02-08 09:13:20|    30.0|\n",
      "|2016-02-08 08:53:17|2016-02-08 09:23:17|    30.0|\n",
      "|2016-02-08 09:24:37|2016-02-08 09:54:37|    30.0|\n",
      "|2016-02-08 09:25:17|2016-02-08 09:55:17|    30.0|\n",
      "|2016-02-08 09:35:35|2016-02-08 10:05:35|    30.0|\n",
      "+-------------------+-------------------+--------+\n",
      "only showing top 20 rows\n",
      "\n"
     ]
    }
   ],
   "source": [
    "# calculate the duration in minutes and create a new column with that feature\n",
    "selected_df = selected_df.withColumn(\"Duration\", ((unix_timestamp(\"End_Time\") - unix_timestamp(\"Start_Time\"))/60))\n",
    "\n",
    "# Show the results\n",
    "selected_df.select(\"Start_Time\", \"End_Time\", \"Duration\").show()\n"
   ]
  },
  {
   "cell_type": "markdown",
   "metadata": {
    "application/vnd.databricks.v1+cell": {
     "cellMetadata": {
      "byteLimit": 2048000,
      "rowLimit": 10000
     },
     "inputWidgets": {},
     "nuid": "807082cb-9a03-42d6-a49e-9e989b68e8df",
     "showTitle": false,
     "title": ""
    }
   },
   "source": [
    "# 2. Handling outliers using interquartile range"
   ]
  },
  {
   "cell_type": "code",
   "execution_count": null,
   "metadata": {
    "application/vnd.databricks.v1+cell": {
     "cellMetadata": {
      "byteLimit": 2048000,
      "rowLimit": 10000
     },
     "inputWidgets": {},
     "nuid": "5750c52c-c43c-4290-8e25-4407ca8c92fa",
     "showTitle": false,
     "title": ""
    }
   },
   "outputs": [],
   "source": [
    "def IQR_method(df_name, col_name):\n",
    "    # to find outliers using IQR methods\n",
    "    quartiles = df_name.approxQuantile(col_name, [0.25, 0.75], 0.01)\n",
    "    \n",
    "    Q1 = quartiles[0]\n",
    "    print(\"Q1: \", Q1)\n",
    "    \n",
    "    Q3 = quartiles[1]\n",
    "    print(\"Q3: \", Q3)\n",
    "    \n",
    "    IQR = Q3 - Q1\n",
    "    \n",
    "    lowerBound = Q1 - 1.5 * IQR\n",
    "    print(\"lower bound: \", lowerBound)\n",
    "    \n",
    "    upperBound = Q3 + 1.5 * IQR\n",
    "    print(\"upper bound: \", upperBound)\n",
    "\n",
    "    outliers_df = df_name.filter((col(col_name) < lowerBound) | (col(col_name) > upperBound))\n",
    "    print(\"number of outliers: \", outliers_df.count())\n",
    "    \n",
    "    print(\"percentage of outliers from the dataset: \", (outliers_df.count()/df_name.count()) * 100)\n",
    "\n",
    "    #removing the outliers from the dataset\n",
    "    filtered_df = df_name.filter((col(col_name) > lowerBound) & (col(col_name) < upperBound))\n",
    "    print(\"number of rows after removing outliers: \", filtered_df.count())\n",
    "\n",
    "    return filtered_df"
   ]
  },
  {
   "cell_type": "code",
   "execution_count": null,
   "metadata": {
    "application/vnd.databricks.v1+cell": {
     "cellMetadata": {
      "byteLimit": 2048000,
      "rowLimit": 10000
     },
     "inputWidgets": {},
     "nuid": "2674d642-6a49-4008-af00-7e934b296261",
     "showTitle": false,
     "title": ""
    }
   },
   "outputs": [
    {
     "data": {
      "text/html": [
       "<style scoped>\n",
       "  .ansiout {\n",
       "    display: block;\n",
       "    unicode-bidi: embed;\n",
       "    white-space: pre-wrap;\n",
       "    word-wrap: break-word;\n",
       "    word-break: break-all;\n",
       "    font-family: \"Menlo\", \"Monaco\", \"Consolas\", \"Ubuntu Mono\", \"Source Code Pro\", monospace;\n",
       "    font-size: 13px;\n",
       "    color: #555;\n",
       "    margin-left: 4px;\n",
       "    line-height: 19px;\n",
       "  }\n",
       "</style>"
      ]
     },
     "metadata": {
      "application/vnd.databricks.v1+output": {
       "arguments": {},
       "data": "",
       "errorSummary": "Command skipped",
       "errorTraceType": "html",
       "metadata": {},
       "type": "ipynbError"
      }
     },
     "output_type": "display_data"
    }
   ],
   "source": [
    "selected_df.select(\"Duration\").summary().show()"
   ]
  },
  {
   "cell_type": "code",
   "execution_count": null,
   "metadata": {
    "application/vnd.databricks.v1+cell": {
     "cellMetadata": {
      "byteLimit": 2048000,
      "rowLimit": 10000
     },
     "inputWidgets": {},
     "nuid": "371fa7b2-e844-4880-9632-da5173bf28f0",
     "showTitle": false,
     "title": ""
    }
   },
   "outputs": [
    {
     "name": "stdout",
     "output_type": "stream",
     "text": [
      "q1:  31.483333333333334\n",
      "q3:  124.76666666666667\n",
      "lower bound:  -108.44166666666668\n",
      "upper bound:  264.69166666666666\n",
      "number of outliers:  733470\n",
      "percentage of outliers from the dataset:  9.49058756579957\n",
      "number of rows after removing outliers:  6994924\n"
     ]
    }
   ],
   "source": [
    "#remove outliers for \"Duration\" column which will be our target variable\n",
    "removed_duration_df = IQR_method(selected_df, \"Duration\")\n"
   ]
  },
  {
   "cell_type": "code",
   "execution_count": null,
   "metadata": {
    "application/vnd.databricks.v1+cell": {
     "cellMetadata": {
      "byteLimit": 2048000,
      "rowLimit": 10000
     },
     "inputWidgets": {},
     "nuid": "36bbb076-cf2a-426c-8b20-d9a65cda8879",
     "showTitle": false,
     "title": ""
    }
   },
   "outputs": [
    {
     "data": {
      "text/html": [
       "<style scoped>\n",
       "  .ansiout {\n",
       "    display: block;\n",
       "    unicode-bidi: embed;\n",
       "    white-space: pre-wrap;\n",
       "    word-wrap: break-word;\n",
       "    word-break: break-all;\n",
       "    font-family: \"Menlo\", \"Monaco\", \"Consolas\", \"Ubuntu Mono\", \"Source Code Pro\", monospace;\n",
       "    font-size: 13px;\n",
       "    color: #555;\n",
       "    margin-left: 4px;\n",
       "    line-height: 19px;\n",
       "  }\n",
       "</style>"
      ]
     },
     "metadata": {
      "application/vnd.databricks.v1+output": {
       "arguments": {},
       "data": "",
       "errorSummary": "Command skipped",
       "errorTraceType": "html",
       "metadata": {},
       "type": "ipynbError"
      }
     },
     "output_type": "display_data"
    }
   ],
   "source": [
    "removed_duration_df.select(\"Distance(mi)\").summary().show()"
   ]
  },
  {
   "cell_type": "code",
   "execution_count": null,
   "metadata": {
    "application/vnd.databricks.v1+cell": {
     "cellMetadata": {
      "byteLimit": 2048000,
      "rowLimit": 10000
     },
     "inputWidgets": {},
     "nuid": "84247282-4b74-407d-898f-dd494b5d88f4",
     "showTitle": false,
     "title": ""
    }
   },
   "outputs": [
    {
     "data": {
      "text/html": [
       "<style scoped>\n",
       "  .ansiout {\n",
       "    display: block;\n",
       "    unicode-bidi: embed;\n",
       "    white-space: pre-wrap;\n",
       "    word-wrap: break-word;\n",
       "    word-break: break-all;\n",
       "    font-family: \"Menlo\", \"Monaco\", \"Consolas\", \"Ubuntu Mono\", \"Source Code Pro\", monospace;\n",
       "    font-size: 13px;\n",
       "    color: #555;\n",
       "    margin-left: 4px;\n",
       "    line-height: 19px;\n",
       "  }\n",
       "</style>"
      ]
     },
     "metadata": {
      "application/vnd.databricks.v1+output": {
       "arguments": {},
       "data": "",
       "errorSummary": "Command skipped",
       "errorTraceType": "html",
       "metadata": {},
       "type": "ipynbError"
      }
     },
     "output_type": "display_data"
    }
   ],
   "source": [
    "df.select(\"Distance(mi)\").toPandas().hist(bins=50)"
   ]
  },
  {
   "cell_type": "code",
   "execution_count": null,
   "metadata": {
    "application/vnd.databricks.v1+cell": {
     "cellMetadata": {
      "byteLimit": 2048000,
      "rowLimit": 10000
     },
     "inputWidgets": {},
     "nuid": "7611d581-99a7-4555-bbeb-f241c81c4e5c",
     "showTitle": false,
     "title": ""
    }
   },
   "outputs": [
    {
     "name": "stdout",
     "output_type": "stream",
     "text": [
      "q1:  0.0\n",
      "q3:  0.3670000000000001\n",
      "lower bound:  -0.5505000000000002\n",
      "upper bound:  0.9175000000000003\n",
      "number of outliers:  1003836\n",
      "percentage of outliers from the dataset:  14.350920753392032\n",
      "number of rows after removing outliers:  5991088\n"
     ]
    }
   ],
   "source": [
    "#remove outliers for \"Distance(mi)\" because it is highly skewed to the left (less than 1 mile)\n",
    "outliers_removed_df = IQR_method(removed_duration_df, \"Distance(mi)\")\n"
   ]
  },
  {
   "cell_type": "code",
   "execution_count": null,
   "metadata": {
    "application/vnd.databricks.v1+cell": {
     "cellMetadata": {
      "byteLimit": 2048000,
      "rowLimit": 10000
     },
     "inputWidgets": {},
     "nuid": "b14e61d8-dbe9-4d09-aed6-322400b6914e",
     "showTitle": false,
     "title": ""
    }
   },
   "outputs": [
    {
     "name": "stdout",
     "output_type": "stream",
     "text": [
      "+-------+-----------------+\n",
      "|summary|   Visibility(mi)|\n",
      "+-------+-----------------+\n",
      "|  count|          5862493|\n",
      "|   mean|9.119237012308608|\n",
      "| stddev|2.642281516788764|\n",
      "|    min|              0.0|\n",
      "|    25%|             10.0|\n",
      "|    50%|             10.0|\n",
      "|    75%|             10.0|\n",
      "|    max|            140.0|\n",
      "+-------+-----------------+\n",
      "\n",
      "number of rows after removing outliers:  5851403\n"
     ]
    }
   ],
   "source": [
    "outliers_removed_df.select('Visibility(mi)').summary().show()\n",
    "\n",
    "#keep visibility that are less than 20 only because the majority is skewed to the left (less than 10 miles)\n",
    "removed_visibil_df = outliers_removed_df.filter(col('Visibility(mi)') < 20)\n",
    "\n",
    "print(\"number of rows after removing outliers: \", removed_visibil_df.count())"
   ]
  },
  {
   "cell_type": "code",
   "execution_count": null,
   "metadata": {
    "application/vnd.databricks.v1+cell": {
     "cellMetadata": {
      "byteLimit": 2048000,
      "rowLimit": 10000
     },
     "inputWidgets": {},
     "nuid": "d25b853c-1a82-4ac4-adab-4f676f2ebb3f",
     "showTitle": false,
     "title": ""
    }
   },
   "outputs": [
    {
     "name": "stdout",
     "output_type": "stream",
     "text": [
      "+--------+----------+--------+---------+---------+------------+------+----+------+-----+-----------------+--------------+-------------+-----------+------------+--------------+---------------+-----------------+--------------+--------+\n",
      "|Severity|Start_Time|End_Time|Start_Lat|Start_Lng|Distance(mi)|Street|City|County|State|Weather_Timestamp|Temperature(F)|Wind_Chill(F)|Humidity(%)|Pressure(in)|Visibility(mi)|Wind_Speed(mph)|Precipitation(in)|Sunrise_Sunset|Duration|\n",
      "+--------+----------+--------+---------+---------+------------+------+----+------+-----+-----------------+--------------+-------------+-----------+------------+--------------+---------------+-----------------+--------------+--------+\n",
      "|0       |0         |0       |0        |0        |0           |8406  |144 |0     |0    |0                |19216         |1458611      |26794      |6709        |0             |337200         |1626740          |12816         |0       |\n",
      "+--------+----------+--------+---------+---------+------------+------+----+------+-----+-----------------+--------------+-------------+-----------+------------+--------------+---------------+-----------------+--------------+--------+\n",
      "\n"
     ]
    }
   ],
   "source": [
    "#count nulls in each column and display the results\n",
    "null_counts = removed_visibil_df.select([sum(col(c).isNull().cast(\"int\")).alias(c) for c in removed_visibil_df.columns])\n",
    "null_counts.show(truncate=False)\n"
   ]
  },
  {
   "cell_type": "markdown",
   "metadata": {
    "application/vnd.databricks.v1+cell": {
     "cellMetadata": {
      "byteLimit": 2048000,
      "rowLimit": 10000
     },
     "inputWidgets": {},
     "nuid": "119fc395-56f7-4eea-8257-ba584ae1c7b5",
     "showTitle": false,
     "title": ""
    }
   },
   "source": [
    "# 3. Handling missing data"
   ]
  },
  {
   "cell_type": "code",
   "execution_count": null,
   "metadata": {
    "application/vnd.databricks.v1+cell": {
     "cellMetadata": {
      "byteLimit": 2048000,
      "rowLimit": 10000
     },
     "inputWidgets": {},
     "nuid": "904ecc28-d354-4d41-81b9-c944a8eb2dd1",
     "showTitle": false,
     "title": ""
    }
   },
   "outputs": [],
   "source": [
    "# handling missing values in columns\n",
    "from pyspark.sql.window import Window\n",
    "#set the window spec to be in the timely order based on the weather timestamp recording the time when the weather data was observed\n",
    "window_spec = Window.orderBy('Weather_Timestamp')\n",
    "\n",
    "def handle_missing_values(col_name, df_name, window_spec):\n",
    "\n",
    "    column = df_name[col_name]\n",
    "    #calculate the average value of the column\n",
    "    avg_value = df_name.select(avg(col_name)).collect()[0][0]\n",
    "\n",
    "    #when there are missing values, replace the null values according to the following conditions:\n",
    "    #1) use the previous value from the lag function when it is available\n",
    "    #2) use the next value from the lead function when it is available\n",
    "    #3) use the constant of average value from lit function when none of the previous or next values are available\n",
    "    #otherwise, when it is not null, keep the value as it is\n",
    "    result_df = df_name.withColumn(col_name, \n",
    "                                    when(isnull(column), \n",
    "                                        coalesce(lag(column).over(window_spec), \n",
    "                                                lead(column).over(window_spec),\n",
    "                                                lit(avg_value))).otherwise(column))\n",
    "    \n",
    "    return result_df\n",
    "    "
   ]
  },
  {
   "cell_type": "code",
   "execution_count": null,
   "metadata": {
    "application/vnd.databricks.v1+cell": {
     "cellMetadata": {
      "byteLimit": 2048000,
      "rowLimit": 10000
     },
     "inputWidgets": {},
     "nuid": "a8c26974-f6a4-4160-89dd-cb968f9c06cb",
     "showTitle": false,
     "title": ""
    }
   },
   "outputs": [],
   "source": [
    "# fill the missing values in 'Temperature(F)'\n",
    "filtered_temp = handle_missing_values('Temperature(F)', removed_visibil_df, window_spec)\n"
   ]
  },
  {
   "cell_type": "code",
   "execution_count": null,
   "metadata": {
    "application/vnd.databricks.v1+cell": {
     "cellMetadata": {
      "byteLimit": 2048000,
      "rowLimit": 10000
     },
     "inputWidgets": {},
     "nuid": "7bef1310-b6df-4a15-b5f6-d0d1b29b907f",
     "showTitle": false,
     "title": ""
    }
   },
   "outputs": [],
   "source": [
    "# as Sunrise_Sunset column contains categorical data (i.e., Day or Night based on Sunrise and Sunset),\n",
    "# we will use forward filling method to fill missing values by replacing it with previous data.\n",
    "# if there is a null value, replace with a previous non-null value.\n",
    "filtered_sun = filtered_temp.withColumn(\"Sunrise_Sunset\", last(\"Sunrise_Sunset\", ignorenulls=True).over(window_spec))\n"
   ]
  },
  {
   "cell_type": "code",
   "execution_count": null,
   "metadata": {
    "application/vnd.databricks.v1+cell": {
     "cellMetadata": {
      "byteLimit": 2048000,
      "rowLimit": 10000
     },
     "inputWidgets": {},
     "nuid": "c6b32e5b-1b6e-4a29-b719-e2d8606c4425",
     "showTitle": false,
     "title": ""
    }
   },
   "outputs": [
    {
     "name": "stdout",
     "output_type": "stream",
     "text": [
      "+--------+----------+---------+---------+------------+------+----+------+-----+--------------+-------------+-----------+------------+--------------+---------------+-----------------+--------------+--------+\n",
      "|Severity|Start_Time|Start_Lat|Start_Lng|Distance(mi)|Street|City|County|State|Temperature(F)|Wind_Chill(F)|Humidity(%)|Pressure(in)|Visibility(mi)|Wind_Speed(mph)|Precipitation(in)|Sunrise_Sunset|Duration|\n",
      "+--------+----------+---------+---------+------------+------+----+------+-----+--------------+-------------+-----------+------------+--------------+---------------+-----------------+--------------+--------+\n",
      "|0       |0         |0        |0        |0           |8406  |144 |0     |0    |0             |1458611      |26794      |6709        |0             |337200         |1626740          |0             |0       |\n",
      "+--------+----------+---------+---------+------------+------+----+------+-----+--------------+-------------+-----------+------------+--------------+---------------+-----------------+--------------+--------+\n",
      "\n"
     ]
    }
   ],
   "source": [
    "# Weather_Timestamp was used for window spec but will not be used further, so drop here\n",
    "#as we did calculate and create Duration column already, End_Time also can be dropped as it will not be used further\n",
    "selected_cols_df = filtered_sun.drop(\"Weather_Timestamp\", \"End_Time\")\n",
    "\n",
    "#check again nulls\n",
    "null_counts = selected_cols_df.select([sum(col(c).isNull().cast(\"int\")).alias(c) for c in selected_cols_df.columns])\n",
    "null_counts.show(truncate=False)\n"
   ]
  },
  {
   "cell_type": "code",
   "execution_count": null,
   "metadata": {
    "application/vnd.databricks.v1+cell": {
     "cellMetadata": {
      "byteLimit": 2048000,
      "rowLimit": 10000
     },
     "inputWidgets": {},
     "nuid": "4185adf8-29ed-4908-8f07-3ed3f6621153",
     "showTitle": false,
     "title": ""
    }
   },
   "outputs": [],
   "source": [
    "# Extract time features from Start_Time\n",
    "transformed_df = selected_cols_df.withColumn(\"hour\", hour(\"Start_Time\")).withColumn(\"day_of_week\", dayofweek(\"Start_Time\")).withColumn(\"month\", month(\"Start_Time\")).withColumn(\"year\", year(\"Start_Time\")).withColumn(\"day_of_month\", dayofmonth(\"Start_Time\"))\n",
    "\n",
    "transformed_df = transformed_df.drop(\"Start_Time\")"
   ]
  },
  {
   "cell_type": "code",
   "execution_count": null,
   "metadata": {
    "application/vnd.databricks.v1+cell": {
     "cellMetadata": {
      "byteLimit": 2048000,
      "rowLimit": 10000
     },
     "inputWidgets": {},
     "nuid": "5d259ab1-38c9-41e8-9099-206655cc3798",
     "showTitle": false,
     "title": ""
    }
   },
   "outputs": [
    {
     "data": {
      "text/html": [
       "<style scoped>\n",
       "  .ansiout {\n",
       "    display: block;\n",
       "    unicode-bidi: embed;\n",
       "    white-space: pre-wrap;\n",
       "    word-wrap: break-word;\n",
       "    word-break: break-all;\n",
       "    font-family: \"Menlo\", \"Monaco\", \"Consolas\", \"Ubuntu Mono\", \"Source Code Pro\", monospace;\n",
       "    font-size: 13px;\n",
       "    color: #555;\n",
       "    margin-left: 4px;\n",
       "    line-height: 19px;\n",
       "  }\n",
       "</style>"
      ]
     },
     "metadata": {
      "application/vnd.databricks.v1+output": {
       "arguments": {},
       "data": "",
       "errorSummary": "Command skipped",
       "errorTraceType": "html",
       "metadata": {},
       "type": "ipynbError"
      }
     },
     "output_type": "display_data"
    }
   ],
   "source": [
    "# check the number of accidents per year\n",
    "transformed_df.groupBy(\"year\").count().orderBy(\"year\").show()"
   ]
  },
  {
   "cell_type": "code",
   "execution_count": null,
   "metadata": {
    "application/vnd.databricks.v1+cell": {
     "cellMetadata": {
      "byteLimit": 2048000,
      "rowLimit": 10000
     },
     "inputWidgets": {},
     "nuid": "5b178fe5-dc8f-4f8c-9259-258f0acae7cd",
     "showTitle": false,
     "title": ""
    }
   },
   "outputs": [
    {
     "data": {
      "text/plain": [
       "5679766"
      ]
     },
     "execution_count": 17,
     "metadata": {},
     "output_type": "execute_result"
    }
   ],
   "source": [
    "# drop the year 2023 as it contains only the first three months of that year (January through March) which does not \n",
    "# provide the full information of that year.\n",
    "removed_year_df = transformed_df.filter(col(\"year\") < 2023)\n",
    "removed_year_df.count()"
   ]
  },
  {
   "cell_type": "code",
   "execution_count": null,
   "metadata": {
    "application/vnd.databricks.v1+cell": {
     "cellMetadata": {
      "byteLimit": 2048000,
      "rowLimit": 10000
     },
     "inputWidgets": {},
     "nuid": "dc8f0b83-71d9-4acb-856a-0d053694a55e",
     "showTitle": false,
     "title": ""
    }
   },
   "outputs": [],
   "source": [
    "# as only 183 rows have null values in column 'City' which won't affect the result, it is decided to simply drop those rows.\n",
    "removed_city_df = removed_year_df.filter(removed_year_df['City'].isNotNull())\n",
    "\n",
    "# likewise, drop 'Street' that contains nulls because it is not reasonable to randomly fill them and it is a relatively small proportion of the dataset\n",
    "removed_street_df = removed_city_df.filter(removed_city_df['Street'].isNotNull())\n"
   ]
  },
  {
   "cell_type": "code",
   "execution_count": null,
   "metadata": {
    "application/vnd.databricks.v1+cell": {
     "cellMetadata": {
      "byteLimit": 2048000,
      "rowLimit": 10000
     },
     "inputWidgets": {},
     "nuid": "d3da10b1-8480-4127-a81a-21162ee90f2a",
     "showTitle": false,
     "title": ""
    }
   },
   "outputs": [
    {
     "data": {
      "text/html": [
       "<style scoped>\n",
       "  .ansiout {\n",
       "    display: block;\n",
       "    unicode-bidi: embed;\n",
       "    white-space: pre-wrap;\n",
       "    word-wrap: break-word;\n",
       "    word-break: break-all;\n",
       "    font-family: \"Menlo\", \"Monaco\", \"Consolas\", \"Ubuntu Mono\", \"Source Code Pro\", monospace;\n",
       "    font-size: 13px;\n",
       "    color: #555;\n",
       "    margin-left: 4px;\n",
       "    line-height: 19px;\n",
       "  }\n",
       "</style>"
      ]
     },
     "metadata": {
      "application/vnd.databricks.v1+output": {
       "arguments": {},
       "data": "",
       "errorSummary": "Command skipped",
       "errorTraceType": "html",
       "metadata": {},
       "type": "ipynbError"
      }
     },
     "output_type": "display_data"
    }
   ],
   "source": [
    "removed_street_df.count()"
   ]
  },
  {
   "cell_type": "code",
   "execution_count": null,
   "metadata": {
    "application/vnd.databricks.v1+cell": {
     "cellMetadata": {
      "byteLimit": 2048000,
      "rowLimit": 10000
     },
     "inputWidgets": {},
     "nuid": "21ca9250-a5f6-4c53-9beb-a9379191db66",
     "showTitle": false,
     "title": ""
    }
   },
   "outputs": [
    {
     "data": {
      "text/html": [
       "<style scoped>\n",
       "  .ansiout {\n",
       "    display: block;\n",
       "    unicode-bidi: embed;\n",
       "    white-space: pre-wrap;\n",
       "    word-wrap: break-word;\n",
       "    word-break: break-all;\n",
       "    font-family: \"Menlo\", \"Monaco\", \"Consolas\", \"Ubuntu Mono\", \"Source Code Pro\", monospace;\n",
       "    font-size: 13px;\n",
       "    color: #555;\n",
       "    margin-left: 4px;\n",
       "    line-height: 19px;\n",
       "  }\n",
       "</style>"
      ]
     },
     "metadata": {
      "application/vnd.databricks.v1+output": {
       "arguments": {},
       "data": "",
       "errorSummary": "Command skipped",
       "errorTraceType": "html",
       "metadata": {},
       "type": "ipynbError"
      }
     },
     "output_type": "display_data"
    }
   ],
   "source": [
    "removed_street_df.printSchema()"
   ]
  },
  {
   "cell_type": "markdown",
   "metadata": {
    "application/vnd.databricks.v1+cell": {
     "cellMetadata": {
      "byteLimit": 2048000,
      "rowLimit": 10000
     },
     "inputWidgets": {},
     "nuid": "37ad7470-7b09-452e-8f2e-eb7d333e4279",
     "showTitle": false,
     "title": ""
    }
   },
   "source": [
    "# 4. Handling categorical values using StringIndexer"
   ]
  },
  {
   "cell_type": "code",
   "execution_count": null,
   "metadata": {
    "application/vnd.databricks.v1+cell": {
     "cellMetadata": {
      "byteLimit": 2048000,
      "rowLimit": 10000
     },
     "inputWidgets": {},
     "nuid": "e9b7bee3-a07b-44fe-afbb-b1ff4a0953f8",
     "showTitle": false,
     "title": ""
    }
   },
   "outputs": [
    {
     "data": {
      "application/vnd.jupyter.widget-view+json": {
       "model_id": "c960f040a8e942a49c16fb1287155c7c",
       "version_major": 2,
       "version_minor": 0
      },
      "text/plain": [
       "Downloading artifacts:   0%|          | 0/9 [00:00<?, ?it/s]"
      ]
     },
     "metadata": {},
     "output_type": "display_data"
    },
    {
     "data": {
      "application/vnd.jupyter.widget-view+json": {
       "model_id": "c18d0e1b776c40e1a840501d26079186",
       "version_major": 2,
       "version_minor": 0
      },
      "text/plain": [
       "Uploading artifacts:   0%|          | 0/4 [00:00<?, ?it/s]"
      ]
     },
     "metadata": {},
     "output_type": "display_data"
    }
   ],
   "source": [
    "from pyspark.ml.feature import StringIndexer\n",
    "string_cols = ['Sunrise_Sunset']\n",
    "stages = []\n",
    "for val in string_cols:\n",
    "    # StringIndexer to index the column\n",
    "    string_indexer = StringIndexer(inputCol=val, outputCol=f\"{val}_indexed\")\n",
    "    stages.append(string_indexer)\n",
    "\n",
    "pipeline = Pipeline(stages=stages)\n",
    "model = pipeline.fit(removed_year_df).transform(removed_year_df)\n",
    "\n",
    "model = model.drop(*string_cols)\n"
   ]
  },
  {
   "cell_type": "code",
   "execution_count": null,
   "metadata": {
    "application/vnd.databricks.v1+cell": {
     "cellMetadata": {
      "byteLimit": 2048000,
      "rowLimit": 10000
     },
     "inputWidgets": {},
     "nuid": "c8064a4c-34ba-44f0-84ec-a7f305fc04df",
     "showTitle": false,
     "title": ""
    }
   },
   "outputs": [
    {
     "data": {
      "text/html": [
       "<style scoped>\n",
       "  .ansiout {\n",
       "    display: block;\n",
       "    unicode-bidi: embed;\n",
       "    white-space: pre-wrap;\n",
       "    word-wrap: break-word;\n",
       "    word-break: break-all;\n",
       "    font-family: \"Menlo\", \"Monaco\", \"Consolas\", \"Ubuntu Mono\", \"Source Code Pro\", monospace;\n",
       "    font-size: 13px;\n",
       "    color: #555;\n",
       "    margin-left: 4px;\n",
       "    line-height: 19px;\n",
       "  }\n",
       "</style>"
      ]
     },
     "metadata": {
      "application/vnd.databricks.v1+output": {
       "arguments": {},
       "data": "",
       "errorSummary": "Command skipped",
       "errorTraceType": "html",
       "metadata": {},
       "type": "ipynbError"
      }
     },
     "output_type": "display_data"
    }
   ],
   "source": [
    "model.printSchema()"
   ]
  },
  {
   "cell_type": "code",
   "execution_count": null,
   "metadata": {
    "application/vnd.databricks.v1+cell": {
     "cellMetadata": {
      "byteLimit": 2048000,
      "rowLimit": 10000
     },
     "inputWidgets": {},
     "nuid": "87e58c2b-da62-466e-b583-4e92a5e36655",
     "showTitle": false,
     "title": ""
    }
   },
   "outputs": [
    {
     "data": {
      "text/html": [
       "<style scoped>\n",
       "  .ansiout {\n",
       "    display: block;\n",
       "    unicode-bidi: embed;\n",
       "    white-space: pre-wrap;\n",
       "    word-wrap: break-word;\n",
       "    word-break: break-all;\n",
       "    font-family: \"Menlo\", \"Monaco\", \"Consolas\", \"Ubuntu Mono\", \"Source Code Pro\", monospace;\n",
       "    font-size: 13px;\n",
       "    color: #555;\n",
       "    margin-left: 4px;\n",
       "    line-height: 19px;\n",
       "  }\n",
       "</style>"
      ]
     },
     "metadata": {
      "application/vnd.databricks.v1+output": {
       "arguments": {},
       "data": "",
       "errorSummary": "Command skipped",
       "errorTraceType": "html",
       "metadata": {},
       "type": "ipynbError"
      }
     },
     "output_type": "display_data"
    }
   ],
   "source": [
    "model.columns"
   ]
  },
  {
   "cell_type": "markdown",
   "metadata": {
    "application/vnd.databricks.v1+cell": {
     "cellMetadata": {
      "byteLimit": 2048000,
      "rowLimit": 10000
     },
     "inputWidgets": {},
     "nuid": "2d92c676-b17e-4f95-98f6-4ccb73586195",
     "showTitle": false,
     "title": ""
    }
   },
   "source": [
    "# Correlation Evaluation Using Correlation Heatmap"
   ]
  },
  {
   "cell_type": "code",
   "execution_count": null,
   "metadata": {
    "application/vnd.databricks.v1+cell": {
     "cellMetadata": {
      "byteLimit": 2048000,
      "rowLimit": 10000
     },
     "inputWidgets": {},
     "nuid": "5589ab7c-3c3f-4c2d-bd4d-e17808c050b0",
     "showTitle": false,
     "title": ""
    }
   },
   "outputs": [],
   "source": [
    "\n",
    "from pyspark.ml.feature import VectorAssembler\n",
    "from pyspark.ml.stat import Correlation\n",
    "# Define the features\n",
    "feature_cols = ['Severity',\n",
    "'Start_Lat',\n",
    " 'Start_Lng',\n",
    " 'Distance(mi)',\n",
    " 'Temperature(F)',\n",
    " 'Wind_Chill(F)',\n",
    " 'Humidity(%)',\n",
    " 'Pressure(in)',\n",
    " 'Visibility(mi)',\n",
    " 'Wind_Speed(mph)',\n",
    " 'Precipitation(in)',\n",
    " 'Duration',\n",
    " 'hour',\n",
    " 'day_of_week',\n",
    " 'month',\n",
    " 'year',\n",
    " 'day_of_month',\n",
    " 'Street_indexed',\n",
    " 'City_indexed',\n",
    " 'County_indexed',\n",
    " 'State_indexed',\n",
    " 'Sunrise_Sunset_indexed']\n",
    "\n",
    "# Assemble features into a vector\n",
    "assembler = VectorAssembler(inputCols=feature_cols, outputCol=\"features\", handleInvalid=\"skip\") \n",
    "prepared_df = assembler.transform(model)\n",
    "\n",
    "corr_matrix = Correlation.corr(prepared_df, \"features\").head()\n",
    "corr_matrix = corr_matrix[0].toArray()\n",
    "\n",
    "import pandas as pd\n",
    "corr_matrix_df = pd.DataFrame(corr_matrix, columns=feature_cols, index=feature_cols)\n",
    "pd.set_option('display.max_rows', None)\n",
    "pd.set_option('display.max_columns', None)\n",
    "\n",
    "print(corr_matrix_df)"
   ]
  },
  {
   "cell_type": "code",
   "execution_count": null,
   "metadata": {
    "application/vnd.databricks.v1+cell": {
     "cellMetadata": {
      "byteLimit": 2048000,
      "rowLimit": 10000
     },
     "inputWidgets": {},
     "nuid": "70ae5fb2-9be0-419d-9a67-9c909abd8830",
     "showTitle": false,
     "title": ""
    }
   },
   "outputs": [],
   "source": [
    "import matplotlib.pyplot as plt\n",
    "import seaborn as sns\n",
    "plt.figure(figsize=(15,12))\n",
    "sns.heatmap(corr_matrix_df, annot=True, cmap=\"coolwarm\", fmt=\".2f\", vmin=-1, vmax=1)\n",
    "plt.title(\"Correlation Heatmap\")\n",
    "plt.show()\n",
    "\n",
    "# Based on the result, it shows there are not many features that have a strong correlation with Duration.\n",
    "# But it only shows the linear relationships so we cannot determine the non-linear relationships.\n",
    "# Therefore, by considering all results we have observed through EDA, I select \"severity, distance, temperature, start_lat,\n",
    "# start_lng, visibility, sunrise_sunset, hour, day_of_week, month, year\" as the independent variables to be used in the predictive models."
   ]
  },
  {
   "cell_type": "markdown",
   "metadata": {
    "application/vnd.databricks.v1+cell": {
     "cellMetadata": {
      "byteLimit": 2048000,
      "rowLimit": 10000
     },
     "inputWidgets": {},
     "nuid": "130ba59a-d9b2-4525-bc8e-d4180c2becbd",
     "showTitle": false,
     "title": ""
    }
   },
   "source": [
    "# 5. Handling categorical values using one hot encoding"
   ]
  },
  {
   "cell_type": "code",
   "execution_count": null,
   "metadata": {
    "application/vnd.databricks.v1+cell": {
     "cellMetadata": {
      "byteLimit": 2048000,
      "rowLimit": 10000
     },
     "inputWidgets": {},
     "nuid": "f317c4ab-1e18-428c-9444-7f9b118f44df",
     "showTitle": false,
     "title": ""
    }
   },
   "outputs": [],
   "source": [
    "new_df = model.select('Severity', \"Start_Lat\", \"Start_Lng\", 'Distance(mi)', 'Temperature(F)', 'Visibility(mi)', 'Duration', 'Sunrise_Sunset_indexed','hour','day_of_week','month','year')"
   ]
  },
  {
   "cell_type": "code",
   "execution_count": null,
   "metadata": {
    "application/vnd.databricks.v1+cell": {
     "cellMetadata": {
      "byteLimit": 2048000,
      "rowLimit": 10000
     },
     "inputWidgets": {},
     "nuid": "c8407854-9098-4b4a-9ba8-20f981d24c4c",
     "showTitle": false,
     "title": ""
    }
   },
   "outputs": [
    {
     "data": {
      "application/vnd.jupyter.widget-view+json": {
       "model_id": "62e3fcaf0f194993971852879f8b78c6",
       "version_major": 2,
       "version_minor": 0
      },
      "text/plain": [
       "Downloading artifacts:   0%|          | 0/37 [00:00<?, ?it/s]"
      ]
     },
     "metadata": {},
     "output_type": "display_data"
    },
    {
     "data": {
      "application/vnd.jupyter.widget-view+json": {
       "model_id": "d42b2dc1473947fb85b643fecf9afecf",
       "version_major": 2,
       "version_minor": 0
      },
      "text/plain": [
       "Uploading artifacts:   0%|          | 0/4 [00:00<?, ?it/s]"
      ]
     },
     "metadata": {},
     "output_type": "display_data"
    }
   ],
   "source": [
    "from pyspark.ml.feature import OneHotEncoder\n",
    "from pyspark.ml import Pipeline\n",
    "\n",
    "categorical_cols = ['Severity','hour','day_of_week','month','year']\n",
    "# I treat time-related features as categorical here because they do not have a linear relationship; \n",
    "# each day of week, each month, each year are more like categories.\n",
    "# even using them as numerical values and conducting experiments, it was observed that they perform better when treated as categorical features.\n",
    "stages = []\n",
    "\n",
    "for val in categorical_cols:\n",
    "    encoder = OneHotEncoder(inputCol=val, outputCol=f\"{val}_encoded\")\n",
    "    stages.append(encoder)\n",
    "\n",
    "pipeline = Pipeline(stages=stages)\n",
    "onehot_df = pipeline.fit(new_df).transform(new_df)\n",
    "\n",
    "onehot_df = onehot_df.drop(*categorical_cols)\n",
    "\n"
   ]
  },
  {
   "cell_type": "markdown",
   "metadata": {
    "application/vnd.databricks.v1+cell": {
     "cellMetadata": {
      "byteLimit": 2048000,
      "rowLimit": 10000
     },
     "inputWidgets": {},
     "nuid": "4135a63d-ec89-41bb-91b0-5928ddebe208",
     "showTitle": false,
     "title": ""
    }
   },
   "source": [
    "# 6. Standardization of numerical features"
   ]
  },
  {
   "cell_type": "code",
   "execution_count": null,
   "metadata": {
    "application/vnd.databricks.v1+cell": {
     "cellMetadata": {
      "byteLimit": 2048000,
      "rowLimit": 10000
     },
     "inputWidgets": {},
     "nuid": "19346ba6-2f80-4aea-87db-0d7fd73da1b6",
     "showTitle": false,
     "title": ""
    }
   },
   "outputs": [
    {
     "data": {
      "application/vnd.jupyter.widget-view+json": {
       "model_id": "ce799e13f7c94406b8be85f559f5703b",
       "version_major": 2,
       "version_minor": 0
      },
      "text/plain": [
       "Downloading artifacts:   0%|          | 0/11 [00:00<?, ?it/s]"
      ]
     },
     "metadata": {},
     "output_type": "display_data"
    },
    {
     "data": {
      "application/vnd.jupyter.widget-view+json": {
       "model_id": "c884b8a4e20a4058b02e0eae885806be",
       "version_major": 2,
       "version_minor": 0
      },
      "text/plain": [
       "Uploading artifacts:   0%|          | 0/4 [00:00<?, ?it/s]"
      ]
     },
     "metadata": {},
     "output_type": "display_data"
    }
   ],
   "source": [
    "from pyspark.ml.feature import StandardScaler\n",
    "from pyspark.ml.feature import VectorAssembler\n",
    "\n",
    "numeric_cols = [\"Start_Lat\", \"Start_Lng\", 'Distance(mi)', 'Temperature(F)', 'Visibility(mi)']\n",
    "assembler = VectorAssembler(inputCols=numeric_cols, outputCol='numeric_features')\n",
    "scaler = StandardScaler(inputCol='numeric_features', outputCol='scaled_features')\n",
    "\n",
    "pipeline_numeric = Pipeline(stages=[assembler, scaler])\n",
    "transformed_df_numeric = pipeline_numeric.fit(onehot_df).transform(onehot_df)\n",
    "\n",
    "\n",
    "\n"
   ]
  },
  {
   "cell_type": "code",
   "execution_count": null,
   "metadata": {
    "application/vnd.databricks.v1+cell": {
     "cellMetadata": {
      "byteLimit": 2048000,
      "rowLimit": 10000
     },
     "inputWidgets": {},
     "nuid": "976c16da-b445-4fc1-ab3a-e2018f95491f",
     "showTitle": false,
     "title": ""
    }
   },
   "outputs": [
    {
     "data": {
      "text/html": [
       "<style scoped>\n",
       "  .ansiout {\n",
       "    display: block;\n",
       "    unicode-bidi: embed;\n",
       "    white-space: pre-wrap;\n",
       "    word-wrap: break-word;\n",
       "    word-break: break-all;\n",
       "    font-family: \"Menlo\", \"Monaco\", \"Consolas\", \"Ubuntu Mono\", \"Source Code Pro\", monospace;\n",
       "    font-size: 13px;\n",
       "    color: #555;\n",
       "    margin-left: 4px;\n",
       "    line-height: 19px;\n",
       "  }\n",
       "</style>"
      ]
     },
     "metadata": {
      "application/vnd.databricks.v1+output": {
       "arguments": {},
       "data": "",
       "errorSummary": "Command skipped",
       "errorTraceType": "html",
       "metadata": {},
       "type": "ipynbError"
      }
     },
     "output_type": "display_data"
    }
   ],
   "source": [
    "transformed_df_numeric.printSchema()"
   ]
  },
  {
   "cell_type": "code",
   "execution_count": null,
   "metadata": {
    "application/vnd.databricks.v1+cell": {
     "cellMetadata": {
      "byteLimit": 2048000,
      "rowLimit": 10000
     },
     "inputWidgets": {},
     "nuid": "b7d908bd-7b54-4b72-8295-09a557e2814c",
     "showTitle": false,
     "title": ""
    }
   },
   "outputs": [
    {
     "data": {
      "text/html": [
       "<style scoped>\n",
       "  .ansiout {\n",
       "    display: block;\n",
       "    unicode-bidi: embed;\n",
       "    white-space: pre-wrap;\n",
       "    word-wrap: break-word;\n",
       "    word-break: break-all;\n",
       "    font-family: \"Menlo\", \"Monaco\", \"Consolas\", \"Ubuntu Mono\", \"Source Code Pro\", monospace;\n",
       "    font-size: 13px;\n",
       "    color: #555;\n",
       "    margin-left: 4px;\n",
       "    line-height: 19px;\n",
       "  }\n",
       "</style>"
      ]
     },
     "metadata": {
      "application/vnd.databricks.v1+output": {
       "arguments": {},
       "data": "",
       "errorSummary": "Command skipped",
       "errorTraceType": "html",
       "metadata": {},
       "type": "ipynbError"
      }
     },
     "output_type": "display_data"
    }
   ],
   "source": [
    "transformed_df_numeric.select(\"scaled_features\").show(truncate=False)"
   ]
  },
  {
   "cell_type": "code",
   "execution_count": null,
   "metadata": {
    "application/vnd.databricks.v1+cell": {
     "cellMetadata": {
      "byteLimit": 2048000,
      "rowLimit": 10000
     },
     "inputWidgets": {},
     "nuid": "da09015e-9b5d-453c-b05d-12e4e6c2881f",
     "showTitle": false,
     "title": ""
    }
   },
   "outputs": [],
   "source": [
    "feature_cols = ['scaled_features', 'Sunrise_Sunset_indexed', 'Severity_encoded', 'hour_encoded','day_of_week_encoded','month_encoded','year_encoded']\n",
    "\n",
    "# Assemble features into a vector\n",
    "assembler = VectorAssembler(inputCols=feature_cols, outputCol=\"features\")\n",
    "prepared_df = assembler.transform(transformed_df_numeric)"
   ]
  },
  {
   "cell_type": "code",
   "execution_count": null,
   "metadata": {
    "application/vnd.databricks.v1+cell": {
     "cellMetadata": {
      "byteLimit": 2048000,
      "rowLimit": 10000
     },
     "inputWidgets": {},
     "nuid": "2c9c8d5c-ded0-4c21-bc3e-a9a837b1f9a9",
     "showTitle": false,
     "title": ""
    }
   },
   "outputs": [],
   "source": [
    "prepared_df = prepared_df.withColumnRenamed(\"Duration\", \"label\")\n"
   ]
  },
  {
   "cell_type": "code",
   "execution_count": null,
   "metadata": {
    "application/vnd.databricks.v1+cell": {
     "cellMetadata": {
      "byteLimit": 2048000,
      "rowLimit": 10000
     },
     "inputWidgets": {},
     "nuid": "2c19f44f-f38b-4ae7-8f70-1e36571e16d7",
     "showTitle": false,
     "title": ""
    }
   },
   "outputs": [
    {
     "name": "stdout",
     "output_type": "stream",
     "text": [
      "+-----+-------------------------------------------------------------------------------------------------------------------------------------------------------------+\n",
      "|label|features                                                                                                                                                     |\n",
      "+-----+-------------------------------------------------------------------------------------------------------------------------------------------------------------+\n",
      "|30.0 |(2074,[0,1,2,3,4,5,8,16,35,42,2068],[7.934490783552333,-4.798026143657379,0.04770741800144333,2.0364391605230496,4.392841175193907,1.0,1.0,1.0,1.0,1.0,1.0]) |\n",
      "|30.0 |(2074,[0,1,2,3,4,5,8,16,35,42,2068],[7.762615953421142,-4.867619061242831,0.04770741800144333,1.9343485429770393,4.392841175193907,1.0,1.0,1.0,1.0,1.0,1.0]) |\n",
      "|30.0 |(2074,[0,1,2,3,4,5,9,17,35,42,2068],[7.89866043439313,-4.8776386424451585,0.04770741800144333,1.8859898294026132,3.9535570576745167,1.0,1.0,1.0,1.0,1.0,1.0])|\n",
      "|30.0 |(2074,[0,1,2,3,4,9,18,35,42,2068],[7.939409691590542,-4.814714961171119,0.04770741800144333,1.9128557813884055,2.1964205875969536,1.0,1.0,1.0,1.0,1.0])      |\n",
      "|30.0 |(2074,[0,1,2,3,4,9,17,35,42,2068],[7.968776087262612,-4.803471706741026,0.04770741800144333,2.0364391605230496,3.074988822635735,1.0,1.0,1.0,1.0,1.0])       |\n",
      "|30.0 |(2074,[0,1,2,3,4,8,17,35,42,2068],[7.874819637917539,-4.876640704344903,0.04770741800144333,1.9343485429770393,2.6357047051163445,1.0,1.0,1.0,1.0,1.0])      |\n",
      "|30.0 |(2074,[0,1,3,4,8,17,35,42,2068],[7.900751164061049,-4.879082432040519,1.8268847350338704,3.074988822635735,1.0,1.0,1.0,1.0,1.0])                             |\n",
      "|30.0 |(2074,[0,1,2,3,4,9,17,35,42,2068],[7.903157261848253,-4.877019941676131,0.04770741800144333,1.8268847350338704,3.074988822635735,1.0,1.0,1.0,1.0,1.0])       |\n",
      "|30.0 |(2074,[0,1,3,4,8,18,35,42,2068],[7.904683230208671,-4.875693682635994,1.7892724022537612,2.1964205875969536,1.0,1.0,1.0,1.0,1.0])                            |\n",
      "|30.0 |(2074,[0,1,2,3,4,9,18,35,42,2068],[7.968776087262612,-4.803471706741026,0.04770741800144333,2.0095732085372573,1.3178523525581722,1.0,1.0,1.0,1.0,1.0])      |\n",
      "|30.0 |(2074,[0,1,2,3,4,9,18,35,42,2068],[7.935414830026604,-4.798010272108768,0.04770741800144333,2.0095732085372573,1.3178523525581722,1.0,1.0,1.0,1.0,1.0])      |\n",
      "|30.0 |(2074,[0,1,3,4,8,18,35,42,2068],[7.896649391313637,-4.874415154092409,1.8161383542395533,1.3178523525581722,1.0,1.0,1.0,1.0,1.0])                            |\n",
      "|30.0 |(2074,[0,1,2,3,4,8,18,35,42,2068],[7.943230276002234,-4.802795544014983,0.04770741800144333,2.0095732085372573,1.3178523525581722,1.0,1.0,1.0,1.0,1.0])      |\n",
      "|30.0 |(2074,[0,1,2,3,4,8,18,35,42,2068],[7.898289822205061,-4.875601291686963,0.04770741800144333,1.8161383542395533,1.3178523525581722,1.0,1.0,1.0,1.0,1.0])      |\n",
      "|30.0 |(2074,[0,1,2,3,4,8,18,35,42,2068],[7.90720677132196,-4.879721928013752,0.04770741800144333,1.9343485429770393,4.392841175193907,1.0,1.0,1.0,1.0,1.0])        |\n",
      "|30.0 |(2074,[0,1,3,4,8,19,35,42,2068],[7.89953897406254,-4.879629537064721,1.9343485429770393,4.392841175193907,1.0,1.0,1.0,1.0,1.0])                              |\n",
      "|30.0 |(2074,[0,1,2,3,4,8,18,35,42,2068],[7.898774896924135,-4.878705917201209,0.04770741800144333,1.9128557813884055,3.074988822635735,1.0,1.0,1.0,1.0,1.0])       |\n",
      "|30.0 |(2074,[0,1,2,3,4,8,19,35,42,2068],[7.897252704237483,-4.87639631725151,0.04770741800144333,2.0095732085372573,4.392841175193907,1.0,1.0,1.0,1.0,1.0])        |\n",
      "|30.0 |(2074,[0,1,2,3,4,8,19,35,42,2068],[7.907195444300663,-4.879890722512484,0.04770741800144333,1.9343485429770393,4.392841175193907,1.0,1.0,1.0,1.0,1.0])       |\n",
      "|30.0 |(2074,[0,1,3,4,8,20,35,42,2068],[7.903746266955724,-4.878745248520578,1.9343485429770393,4.392841175193907,1.0,1.0,1.0,1.0,1.0])                             |\n",
      "+-----+-------------------------------------------------------------------------------------------------------------------------------------------------------------+\n",
      "only showing top 20 rows\n",
      "\n"
     ]
    }
   ],
   "source": [
    "df_for_regression = prepared_df.select(\"label\", \"features\")\n",
    "df_for_regression.show(truncate=False)"
   ]
  },
  {
   "cell_type": "code",
   "execution_count": null,
   "metadata": {
    "application/vnd.databricks.v1+cell": {
     "cellMetadata": {
      "byteLimit": 2048000,
      "rowLimit": 10000
     },
     "inputWidgets": {},
     "nuid": "6787a802-5409-4ea1-ac2d-ba40cb03b4de",
     "showTitle": false,
     "title": ""
    }
   },
   "outputs": [],
   "source": [
    "#after shuffling, extract 10% of df to reduce the time of training\n",
    "shuffled_df = df_for_regression.orderBy(rand()) \n",
    "small_subset = shuffled_df.sample(fraction=0.1, seed=seed) \n",
    "\n",
    "sample_train, sample_test = small_subset.randomSplit([0.8, 0.2], seed=seed)"
   ]
  },
  {
   "cell_type": "markdown",
   "metadata": {
    "application/vnd.databricks.v1+cell": {
     "cellMetadata": {},
     "inputWidgets": {},
     "nuid": "bc74e9c3-55bd-44b0-8cc8-5ad0046bf2f8",
     "showTitle": false,
     "title": ""
    }
   },
   "source": [
    "# Training and Testing Models"
   ]
  },
  {
   "cell_type": "code",
   "execution_count": null,
   "metadata": {
    "application/vnd.databricks.v1+cell": {
     "cellMetadata": {
      "byteLimit": 2048000,
      "rowLimit": 10000
     },
     "inputWidgets": {},
     "nuid": "f0b94f2d-c659-4e98-9c72-20d4ba5de2bf",
     "showTitle": false,
     "title": ""
    }
   },
   "outputs": [],
   "source": [
    "from pyspark.ml.evaluation import RegressionEvaluator\n",
    "from pyspark.ml.regression import RandomForestRegressor\n",
    "from pyspark.ml.regression import DecisionTreeRegressor\n",
    "from pyspark.ml.regression import GBTRegressor\n",
    "from pyspark.ml.tuning import TrainValidationSplit, ParamGridBuilder\n",
    "\n",
    "rmse_evaluator = RegressionEvaluator(metricName=\"rmse\", labelCol=\"label\", predictionCol=\"prediction\")\n",
    "mse_evaluator = RegressionEvaluator(metricName=\"mse\", labelCol=\"label\", predictionCol=\"prediction\")\n"
   ]
  },
  {
   "cell_type": "markdown",
   "metadata": {
    "application/vnd.databricks.v1+cell": {
     "cellMetadata": {
      "byteLimit": 2048000,
      "rowLimit": 10000
     },
     "inputWidgets": {},
     "nuid": "331cc102-8544-4e31-9eb8-d3cd066ae4c7",
     "showTitle": false,
     "title": ""
    }
   },
   "source": [
    "#Baseline models"
   ]
  },
  {
   "cell_type": "code",
   "execution_count": null,
   "metadata": {
    "application/vnd.databricks.v1+cell": {
     "cellMetadata": {
      "byteLimit": 2048000,
      "rowLimit": 10000
     },
     "inputWidgets": {},
     "nuid": "557e661f-7953-4716-bb15-2b0cf354c748",
     "showTitle": false,
     "title": ""
    }
   },
   "outputs": [],
   "source": [
    "#basic models using default parameters\n",
    "dtr = DecisionTreeRegressor(featuresCol='features', labelCol='label').setSeed(seed)\n",
    "rf = RandomForestRegressor(featuresCol='features', labelCol='label').setSeed(seed)\n",
    "gbt = GBTRegressor(featuresCol='features', labelCol='label').setSeed(seed)"
   ]
  },
  {
   "cell_type": "code",
   "execution_count": null,
   "metadata": {
    "application/vnd.databricks.v1+cell": {
     "cellMetadata": {
      "byteLimit": 2048000,
      "rowLimit": 10000
     },
     "inputWidgets": {},
     "nuid": "dd85e8e8-3fc3-49b6-a1ae-82cc44955431",
     "showTitle": false,
     "title": ""
    }
   },
   "outputs": [
    {
     "data": {
      "application/vnd.jupyter.widget-view+json": {
       "model_id": "639178a4d76047c2871fddf805d6fcdd",
       "version_major": 2,
       "version_minor": 0
      },
      "text/plain": [
       "Downloading artifacts:   0%|          | 0/9 [00:00<?, ?it/s]"
      ]
     },
     "metadata": {},
     "output_type": "display_data"
    },
    {
     "data": {
      "application/vnd.jupyter.widget-view+json": {
       "model_id": "fec9039800fd43f698e5d54997055d9e",
       "version_major": 2,
       "version_minor": 0
      },
      "text/plain": [
       "Uploading artifacts:   0%|          | 0/4 [00:00<?, ?it/s]"
      ]
     },
     "metadata": {},
     "output_type": "display_data"
    }
   ],
   "source": [
    "#DTR\n",
    "\n",
    "# Fit the model on the training data\n",
    "dtr_model = dtr.fit(sample_train)\n",
    "\n",
    "# Make predictions on the test data\n",
    "dtr_predictions = dtr_model.transform(sample_test)\n"
   ]
  },
  {
   "cell_type": "code",
   "execution_count": null,
   "metadata": {
    "application/vnd.databricks.v1+cell": {
     "cellMetadata": {
      "byteLimit": 2048000,
      "rowLimit": 10000
     },
     "inputWidgets": {},
     "nuid": "3ff97fc3-375a-4324-8971-1e2b5f3b35a4",
     "showTitle": false,
     "title": ""
    }
   },
   "outputs": [
    {
     "name": "stdout",
     "output_type": "stream",
     "text": [
      "DTR model MAE result on test data = 27.6169\n",
      "DTR model RMSE result on test data = 39.442\n"
     ]
    }
   ],
   "source": [
    "\n",
    "dtr_MAE = mae_evaluator.evaluate(dtr_predictions)\n",
    "print(\"DTR model MAE result on test data = %g\" % dtr_MAE)\n",
    " \n",
    "dtr_RMSE = rmse_evaluator.evaluate(dtr_predictions)\n",
    "print(\"DTR model RMSE result on test data = %g\" % dtr_RMSE)"
   ]
  },
  {
   "cell_type": "code",
   "execution_count": null,
   "metadata": {
    "application/vnd.databricks.v1+cell": {
     "cellMetadata": {
      "byteLimit": 2048000,
      "rowLimit": 10000
     },
     "inputWidgets": {},
     "nuid": "dca53096-5cef-4370-9918-f951a966dc4f",
     "showTitle": false,
     "title": ""
    }
   },
   "outputs": [
    {
     "data": {
      "application/vnd.jupyter.widget-view+json": {
       "model_id": "693933e14bc5449183c3fc75e11e9f3c",
       "version_major": 2,
       "version_minor": 0
      },
      "text/plain": [
       "Downloading artifacts:   0%|          | 0/14 [00:00<?, ?it/s]"
      ]
     },
     "metadata": {},
     "output_type": "display_data"
    },
    {
     "data": {
      "application/vnd.jupyter.widget-view+json": {
       "model_id": "afa0168034b2455aba80983c4e3edb3a",
       "version_major": 2,
       "version_minor": 0
      },
      "text/plain": [
       "Uploading artifacts:   0%|          | 0/4 [00:00<?, ?it/s]"
      ]
     },
     "metadata": {},
     "output_type": "display_data"
    }
   ],
   "source": [
    "#RF\n",
    "\n",
    "# Fit the model on the training data\n",
    "rf_model = rf.fit(sample_train)\n",
    "\n",
    "# Make predictions on the test data\n",
    "rf_predictions = rf_model.transform(sample_test)\n"
   ]
  },
  {
   "cell_type": "code",
   "execution_count": null,
   "metadata": {
    "application/vnd.databricks.v1+cell": {
     "cellMetadata": {
      "byteLimit": 2048000,
      "rowLimit": 10000
     },
     "inputWidgets": {},
     "nuid": "ce6663a6-ad1b-4cb7-911d-a9998f3ded83",
     "showTitle": false,
     "title": ""
    }
   },
   "outputs": [
    {
     "name": "stdout",
     "output_type": "stream",
     "text": [
      "RF model MAE result on test data = 28.0841\n",
      "RF model RMSE result on test data = 39.3954\n"
     ]
    }
   ],
   "source": [
    "# Evaluate the RF model\n",
    "rf_MAE = mae_evaluator.evaluate(rf_predictions)\n",
    "print(\"RF model MAE result on test data = %g\" % rf_MAE)\n",
    "\n",
    "rf_RMSE = rmse_evaluator.evaluate(rf_predictions)\n",
    "print(\"RF model RMSE result on test data = %g\" % rf_RMSE)\n",
    " "
   ]
  },
  {
   "cell_type": "code",
   "execution_count": null,
   "metadata": {
    "application/vnd.databricks.v1+cell": {
     "cellMetadata": {},
     "inputWidgets": {},
     "nuid": "b9b0a216-3bd8-4f84-b750-a2d43887054d",
     "showTitle": false,
     "title": ""
    }
   },
   "outputs": [],
   "source": [
    "#GBT\n",
    "\n",
    "# Fit the model on the training data\n",
    "gbt_model = gbt.fit(sample_train)\n",
    "\n",
    "# Make predictions on the test data\n",
    "gbt_predictions = gbt_model.transform(sample_test)\n"
   ]
  },
  {
   "cell_type": "code",
   "execution_count": null,
   "metadata": {
    "application/vnd.databricks.v1+cell": {
     "cellMetadata": {},
     "inputWidgets": {},
     "nuid": "2bced45b-5be8-439e-8645-e5704d8fbf71",
     "showTitle": false,
     "title": ""
    }
   },
   "outputs": [],
   "source": [
    "# Evaluate the GBT model\n",
    "\n",
    "gbt_MAE = mae_evaluator.evaluate(gbt_predictions)\n",
    "print(\"GBT model MAE result on test data = %g\" % gbt_MAE)\n",
    "\n",
    "gbt_RMSE = rmse_evaluator.evaluate(gbt_predictions)\n",
    "print(\"GBT model RMSE result on test data = %g\" % gbt_RMSE)\n",
    " "
   ]
  },
  {
   "cell_type": "markdown",
   "metadata": {
    "application/vnd.databricks.v1+cell": {
     "cellMetadata": {
      "byteLimit": 2048000,
      "rowLimit": 10000
     },
     "inputWidgets": {},
     "nuid": "4e792cd4-4dfd-4e00-b15b-65660c4a36a6",
     "showTitle": false,
     "title": ""
    }
   },
   "source": [
    "# Hyperparameter tuning"
   ]
  },
  {
   "cell_type": "code",
   "execution_count": null,
   "metadata": {
    "application/vnd.databricks.v1+cell": {
     "cellMetadata": {},
     "inputWidgets": {},
     "nuid": "c01ed75d-74db-43db-a4f5-59d9e67ce3eb",
     "showTitle": false,
     "title": ""
    }
   },
   "outputs": [],
   "source": [
    "from pyspark.ml.tuning import TrainValidationSplit, ParamGridBuilder\n",
    "#DTR\n",
    "dtr_param_grid = ParamGridBuilder().addGrid(dtr.maxDepth, [10, 15]).addGrid(dtr.maxBins, [40, 60]).build()\n",
    "\n",
    "dtr_tvs = TrainValidationSplit(estimator=dtr,\n",
    "                              estimatorParamMaps=dtr_param_grid,\n",
    "                              evaluator=rmse_evaluator,\n",
    "                              trainRatio=0.8,\n",
    "                               seed=seed\n",
    "                              )    \n",
    "# Fit the model on the training data\n",
    "dtr_tuned_model = dtr_tvs.fit(sample_train)\n",
    "\n",
    "# Make predictions on the test data\n",
    "tuned_dtr_predictions = dtr_tuned_model.transform(sample_test)\n",
    "\n",
    "# Get the best model\n",
    "dtr_best_model = dtr_tuned_model.bestModel\n"
   ]
  },
  {
   "cell_type": "code",
   "execution_count": null,
   "metadata": {
    "application/vnd.databricks.v1+cell": {
     "cellMetadata": {
      "byteLimit": 2048000,
      "rowLimit": 10000
     },
     "inputWidgets": {},
     "nuid": "9034c76e-cf42-42f7-a4df-f8b9a1b87b57",
     "showTitle": false,
     "title": ""
    }
   },
   "outputs": [
    {
     "data": {
      "application/vnd.jupyter.widget-view+json": {
       "model_id": "07d28d112f4e451bb0d16d8a5e184e31",
       "version_major": 2,
       "version_minor": 0
      },
      "text/plain": [
       "Downloading artifacts:   0%|          | 0/9 [00:00<?, ?it/s]"
      ]
     },
     "metadata": {},
     "output_type": "display_data"
    },
    {
     "data": {
      "application/vnd.jupyter.widget-view+json": {
       "model_id": "c66ed756055b4a12a4a89bc46ae815c5",
       "version_major": 2,
       "version_minor": 0
      },
      "text/plain": [
       "Uploading artifacts:   0%|          | 0/4 [00:00<?, ?it/s]"
      ]
     },
     "metadata": {},
     "output_type": "display_data"
    }
   ],
   "source": [
    "# after running the above code, it was found that MaxDepth=15 and MaxBins=60 gave the best result among the given hyperparameters,\n",
    "# so it was directly set to those numbers in this code to save the training time\n",
    "\n",
    "tuned_dtr = dtr.setMaxDepth(15).setMaxBins(60)\n",
    "# Fit the model on the training data\n",
    "dtr_tuned_model = tuned_dtr.fit(sample_train)\n",
    "\n",
    "# Make predictions on the test data\n",
    "tuned_dtr_predictions = dtr_tuned_model.transform(sample_test)\n",
    "   "
   ]
  },
  {
   "cell_type": "code",
   "execution_count": null,
   "metadata": {
    "application/vnd.databricks.v1+cell": {
     "cellMetadata": {
      "byteLimit": 2048000,
      "rowLimit": 10000
     },
     "inputWidgets": {},
     "nuid": "47dde1e3-1f59-41b5-aaad-41afdaaacc00",
     "showTitle": false,
     "title": ""
    }
   },
   "outputs": [
    {
     "name": "stdout",
     "output_type": "stream",
     "text": [
      "Best DTR model MAE on test data = 23.4732\n",
      "Best DTR model RMSE on test data = 35.2183\n"
     ]
    }
   ],
   "source": [
    "\n",
    "tuned_dtr_MAE = mae_evaluator.evaluate(tuned_dtr_predictions)\n",
    "print(\"Best DTR model MAE on test data = %g\" % tuned_dtr_MAE)\n",
    "\n",
    "tuned_dtr_RMSE = rmse_evaluator.evaluate(tuned_dtr_predictions)\n",
    "print(\"Best DTR model RMSE on test data = %g\" % tuned_dtr_RMSE)"
   ]
  },
  {
   "cell_type": "code",
   "execution_count": null,
   "metadata": {
    "application/vnd.databricks.v1+cell": {
     "cellMetadata": {
      "byteLimit": 2048000,
      "rowLimit": 10000
     },
     "inputWidgets": {},
     "nuid": "d595ab8a-a740-4b79-beed-f663c1a80816",
     "showTitle": false,
     "title": ""
    }
   },
   "outputs": [
    {
     "data": {
      "application/vnd.jupyter.widget-view+json": {
       "model_id": "51cc0c181c584be0907db0916cd95b4e",
       "version_major": 2,
       "version_minor": 0
      },
      "text/plain": [
       "Downloading artifacts:   0%|          | 0/20 [00:00<?, ?it/s]"
      ]
     },
     "metadata": {},
     "output_type": "display_data"
    },
    {
     "data": {
      "application/vnd.jupyter.widget-view+json": {
       "model_id": "7b1cd47865214ad7bba3d737f4d102b5",
       "version_major": 2,
       "version_minor": 0
      },
      "text/plain": [
       "Uploading artifacts:   0%|          | 0/4 [00:00<?, ?it/s]"
      ]
     },
     "metadata": {},
     "output_type": "display_data"
    },
    {
     "data": {
      "application/vnd.jupyter.widget-view+json": {
       "model_id": "5d82c2afeab0443eb14e28296def526f",
       "version_major": 2,
       "version_minor": 0
      },
      "text/plain": [
       "Downloading artifacts:   0%|          | 0/14 [00:00<?, ?it/s]"
      ]
     },
     "metadata": {},
     "output_type": "display_data"
    },
    {
     "data": {
      "application/vnd.jupyter.widget-view+json": {
       "model_id": "cd667934019b4301ab497e32768bf4db",
       "version_major": 2,
       "version_minor": 0
      },
      "text/plain": [
       "Uploading artifacts:   0%|          | 0/4 [00:00<?, ?it/s]"
      ]
     },
     "metadata": {},
     "output_type": "display_data"
    }
   ],
   "source": [
    "from pyspark.ml.tuning import ParamGridBuilder, TrainValidationSplit\n",
    "#RF\n",
    "\n",
    "rf_param_grid = ParamGridBuilder().addGrid(rf.maxDepth, [10, 15]).addGrid(rf.maxBins, [40, 60]).build()\n",
    "\n",
    "rf_tvs = TrainValidationSplit(estimator=rf,\n",
    "                              estimatorParamMaps=rf_param_grid,\n",
    "                              evaluator=rmse_evaluator,\n",
    "                              trainRatio=0.8,\n",
    "                              seed=seed\n",
    "                              )    \n",
    "# Fit the model on the training data\n",
    "\n",
    "rf_tuned_model = rf_tvs.fit(sample_train)\n",
    "\n",
    "# Make predictions on the test data\n",
    "tuned_rf_predictions = rf_tuned_model.transform(sample_test)\n"
   ]
  },
  {
   "cell_type": "code",
   "execution_count": null,
   "metadata": {
    "application/vnd.databricks.v1+cell": {
     "cellMetadata": {
      "byteLimit": 2048000,
      "rowLimit": 10000
     },
     "inputWidgets": {},
     "nuid": "225a978b-ce59-4751-92a3-82b19b422c44",
     "showTitle": false,
     "title": ""
    }
   },
   "outputs": [
    {
     "name": "stdout",
     "output_type": "stream",
     "text": [
      "Best RF model MAE on test data = 23.853\n",
      "Best RF model RMSE on test data = 34.7114\n"
     ]
    }
   ],
   "source": [
    "\n",
    "tuned_rf_MAE = mae_evaluator.evaluate(tuned_rf_predictions)\n",
    "print(\"Best RF model MAE on test data = %g\" % tuned_rf_MAE)\n",
    "\n",
    "tuned_rf_RMSE = rmse_evaluator.evaluate(tuned_rf_predictions)\n",
    "print(\"Best RF model RMSE on test data = %g\" % tuned_rf_RMSE)\n"
   ]
  },
  {
   "cell_type": "code",
   "execution_count": null,
   "metadata": {
    "application/vnd.databricks.v1+cell": {
     "cellMetadata": {
      "byteLimit": 2048000,
      "rowLimit": 10000
     },
     "inputWidgets": {},
     "nuid": "dd622491-c28c-41c4-9189-0954c4c9c304",
     "showTitle": false,
     "title": ""
    }
   },
   "outputs": [],
   "source": [
    "#GBT\n",
    "\n",
    "gbt_param_grid = ParamGridBuilder().addGrid(gbt.maxDepth, [10, 15]).addGrid(gbt.maxIter, [20, 30]).build()\n",
    "gbt_tvs = TrainValidationSplit(estimator=gbt,\n",
    "                              estimatorParamMaps=gbt_param_grid,\n",
    "                              evaluator=rmse_evaluator,\n",
    "                              trainRatio=0.8,\n",
    "                               seed=seed\n",
    "                              )    \n",
    "\n",
    "# Fit the model on the training data\n",
    "gbt_tuned_model = gbt_tvs.fit(sample_train)\n",
    "\n",
    "# Make predictions on the test data\n",
    "gbt_predictions = gbt_tuned_model.transform(sample_test)\n",
    "    \n",
    "\n",
    "# Get the best model\n",
    "gbt_best_model = gbt_tuned_model.bestModel\n"
   ]
  },
  {
   "cell_type": "code",
   "execution_count": null,
   "metadata": {
    "application/vnd.databricks.v1+cell": {
     "cellMetadata": {
      "byteLimit": 2048000,
      "rowLimit": 10000
     },
     "inputWidgets": {},
     "nuid": "97fc5e9b-dcc2-4f85-ae87-3793cbd04a07",
     "showTitle": false,
     "title": ""
    }
   },
   "outputs": [
    {
     "data": {
      "application/vnd.jupyter.widget-view+json": {
       "model_id": "0f5c53b551ef4e20b346705a120fa3da",
       "version_major": 2,
       "version_minor": 0
      },
      "text/plain": [
       "Downloading artifacts:   0%|          | 0/14 [00:00<?, ?it/s]"
      ]
     },
     "metadata": {},
     "output_type": "display_data"
    },
    {
     "data": {
      "application/vnd.jupyter.widget-view+json": {
       "model_id": "98acb34f4fb4435d89dd38e151eda067",
       "version_major": 2,
       "version_minor": 0
      },
      "text/plain": [
       "Uploading artifacts:   0%|          | 0/4 [00:00<?, ?it/s]"
      ]
     },
     "metadata": {},
     "output_type": "display_data"
    }
   ],
   "source": [
    "# after running the above code, it was found that MaxDepth=15 and MaxIter=30 gave the best result among the given hyperparameters,\n",
    "# so it was directly set to those numbers in this code to save the training time\n",
    "\n",
    "tuned_gbt = gbt.setMaxDepth(15).setMaxIter(30)\n",
    "# Fit the model on the training data\n",
    "gbt_tuned_model = tuned_gbt.fit(sample_train)\n",
    "\n",
    "# Make predictions on the test data\n",
    "tuned_gbt_predictions = gbt_tuned_model.transform(sample_test)\n",
    "   "
   ]
  },
  {
   "cell_type": "code",
   "execution_count": null,
   "metadata": {
    "application/vnd.databricks.v1+cell": {
     "cellMetadata": {
      "byteLimit": 2048000,
      "rowLimit": 10000
     },
     "inputWidgets": {},
     "nuid": "fa92a689-88ff-409f-bee4-d85923ee636e",
     "showTitle": false,
     "title": ""
    }
   },
   "outputs": [
    {
     "name": "stdout",
     "output_type": "stream",
     "text": [
      "Best GBT model MAE on test data = 20.86\n",
      "Best GBT model RMSE on test data = 31.9416\n"
     ]
    }
   ],
   "source": [
    "tuned_gbt_MAE = mae_evaluator.evaluate(tuned_gbt_predictions)\n",
    "print(\"Best GBT model MAE on test data = %g\" % tuned_gbt_MAE)\n",
    "\n",
    "tuned_gbt_RMSE = rmse_evaluator.evaluate(tuned_gbt_predictions)\n",
    "print(\"Best GBT model RMSE on test data = %g\" % tuned_gbt_RMSE)\n"
   ]
  },
  {
   "cell_type": "markdown",
   "metadata": {
    "application/vnd.databricks.v1+cell": {
     "cellMetadata": {
      "byteLimit": 2048000,
      "rowLimit": 10000
     },
     "inputWidgets": {},
     "nuid": "6436f032-65ad-409b-a429-70a32ccff854",
     "showTitle": false,
     "title": ""
    }
   },
   "source": [
    "# Result visualization"
   ]
  },
  {
   "cell_type": "code",
   "execution_count": null,
   "metadata": {
    "application/vnd.databricks.v1+cell": {
     "cellMetadata": {
      "byteLimit": 2048000,
      "rowLimit": 10000
     },
     "inputWidgets": {},
     "nuid": "d9286993-db02-4997-aba1-3754750cfbd6",
     "showTitle": false,
     "title": ""
    }
   },
   "outputs": [],
   "source": [
    "import matplotlib.pyplot as plt\n",
    "import pandas as pd\n",
    "\n",
    "def plot_results(model_output, model_name):\n",
    "\n",
    "    predictions_df = model_output.select(\"prediction\", \"label\").toPandas()\n",
    "    # generate random samples because otherwise the scatter plot would be too cluttered\n",
    "    sampled_result = predictions_df.sample(n=1000)\n",
    "    # Scatter plot\n",
    "    plt.figure(figsize=(8, 6))\n",
    "    plt.scatter(sampled_result['prediction'], sampled_result['label'], alpha=0.5)\n",
    "\n",
    "    plt.title(f\"{model_name} Scatter Plot of Predicted vs. Actual Values\")\n",
    "    plt.xlabel('Predicted Values')\n",
    "    plt.ylabel('Actual Values')\n",
    "    plt.show()\n"
   ]
  },
  {
   "cell_type": "code",
   "execution_count": null,
   "metadata": {
    "application/vnd.databricks.v1+cell": {
     "cellMetadata": {
      "byteLimit": 2048000,
      "rowLimit": 10000
     },
     "inputWidgets": {},
     "nuid": "13d6b93f-06dd-4ba1-ac60-274536bb0277",
     "showTitle": false,
     "title": ""
    }
   },
   "outputs": [
    {
     "data": {
      "image/png": "[encoded data removed]",
      "text/plain": [
       "<Figure size 800x600 with 1 Axes>"
      ]
     },
     "metadata": {},
     "output_type": "display_data"
    }
   ],
   "source": [
    "plot_results(tuned_rf_predictions, 'RF')"
   ]
  },
  {
   "cell_type": "code",
   "execution_count": null,
   "metadata": {
    "application/vnd.databricks.v1+cell": {
     "cellMetadata": {
      "byteLimit": 2048000,
      "rowLimit": 10000
     },
     "inputWidgets": {},
     "nuid": "9f104aa0-403f-4eb3-99fb-bd12f1963502",
     "showTitle": false,
     "title": ""
    }
   },
   "outputs": [
    {
     "data": {
      "image/png": "[encoded data removed]",
      "text/plain": [
       "<Figure size 800x600 with 1 Axes>"
      ]
     },
     "metadata": {},
     "output_type": "display_data"
    }
   ],
   "source": [
    "plot_results(tuned_gbt_predictions, 'GBT')"
   ]
  },
  {
   "cell_type": "code",
   "execution_count": null,
   "metadata": {
    "application/vnd.databricks.v1+cell": {
     "cellMetadata": {
      "byteLimit": 2048000,
      "rowLimit": 10000
     },
     "inputWidgets": {},
     "nuid": "1e6fd7e6-94bf-4a59-a723-4d0fbe3252f8",
     "showTitle": false,
     "title": ""
    }
   },
   "outputs": [
    {
     "data": {
      "image/png": "[encoded data removed]",
      "text/plain": [
       "<Figure size 800x600 with 1 Axes>"
      ]
     },
     "metadata": {},
     "output_type": "display_data"
    }
   ],
   "source": [
    "plot_results(tuned_dtr_predictions, 'DTR')"
   ]
  }
 ],
 "metadata": {
  "application/vnd.databricks.v1+notebook": {
   "dashboards": [],
   "language": "python",
   "notebookMetadata": {
    "pythonIndentUnit": 4
   },
   "notebookName": "final_code",
   "widgets": {}
  },
  "kernelspec": {
   "display_name": "Python 3 (ipykernel)",
   "language": "python",
   "name": "python3"
  },
  "language_info": {
   "codemirror_mode": {
    "name": "ipython",
    "version": 3
   },
   "file_extension": ".py",
   "mimetype": "text/x-python",
   "name": "python",
   "nbconvert_exporter": "python",
   "pygments_lexer": "ipython3",
   "version": "3.11.3"
  }
 },
 "nbformat": 4,
 "nbformat_minor": 4
}
