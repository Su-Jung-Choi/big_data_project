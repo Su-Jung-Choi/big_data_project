{
 "cells": [
  {
   "cell_type": "code",
   "execution_count": 1,
   "id": "9caa7552",
   "metadata": {},
   "outputs": [],
   "source": [
    "mkdir split_files"
   ]
  },
  {
   "cell_type": "code",
   "execution_count": 2,
   "id": "74ccd244",
   "metadata": {},
   "outputs": [],
   "source": [
    "import os\n",
    "import pandas as pd\n",
    "\n",
    "# this is to split the file into smaller chunks\n",
    "def split_csv(input_file, output_dir, chunk_size=1000000):\n",
    "  reader = pd.read_csv(input_file, chunksize=chunk_size)\n",
    "  for i, chunk in enumerate(reader):\n",
    "    output_file = os.path.join(output_dir, f\"chunk_{i}.csv\")\n",
    "    chunk.to_csv(output_file, index=False)\n",
    "\n",
    "if __name__ == \"__main__\":\n",
    "  input_file = \"US_Accidents_March23.csv\"\n",
    "  output_dir = \"split_files\"\n",
    "\n",
    "  split_csv(input_file, output_dir)"
   ]
  },
  {
   "cell_type": "code",
   "execution_count": null,
   "id": "d96d19bc",
   "metadata": {},
   "outputs": [],
   "source": []
  }
 ],
 "metadata": {
  "kernelspec": {
   "display_name": "Python 3 (ipykernel)",
   "language": "python",
   "name": "python3"
  },
  "language_info": {
   "codemirror_mode": {
    "name": "ipython",
    "version": 3
   },
   "file_extension": ".py",
   "mimetype": "text/x-python",
   "name": "python",
   "nbconvert_exporter": "python",
   "pygments_lexer": "ipython3",
   "version": "3.11.3"
  }
 },
 "nbformat": 4,
 "nbformat_minor": 5
}
